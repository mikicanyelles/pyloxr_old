{
 "cells": [
  {
   "cell_type": "code",
   "execution_count": 112,
   "metadata": {},
   "outputs": [],
   "source": [
    "import parmed as pmd\n",
    "import MDAnalysis as mda\n",
    "import os\n",
    "from parmed import load_file as lf"
   ]
  },
  {
   "cell_type": "code",
   "execution_count": 16,
   "metadata": {},
   "outputs": [],
   "source": [
    "a = pmd.load_file('3rde.prmtop', xyz='frames_8784_3.5_8784_4.0_8784_4.5/frame_4.pdb')"
   ]
  },
  {
   "cell_type": "code",
   "execution_count": 43,
   "metadata": {},
   "outputs": [
    {
     "name": "stdout",
     "output_type": "stream",
     "text": [
      "<AmberParm 9783 atoms; 907 residues; 9826 bonds; PBC (orthogonal); parametrized>\n"
     ]
    }
   ],
   "source": [
    "c = a[':WAT&:HXA<@15|:Na+&:HXA<@15|:1-555']\n",
    "print(c)"
   ]
  },
  {
   "cell_type": "code",
   "execution_count": 113,
   "metadata": {},
   "outputs": [],
   "source": [
    "a2 = lf('3rde.prmtop', xyz='frames_8784_3.5_8784_4.0_8784_4.5/frame_4.pdb')"
   ]
  },
  {
   "cell_type": "code",
   "execution_count": 114,
   "metadata": {},
   "outputs": [
    {
     "name": "stdout",
     "output_type": "stream",
     "text": [
      "<AmberParm 9783 atoms; 907 residues; 9826 bonds; PBC (orthogonal); parametrized>\n"
     ]
    }
   ],
   "source": [
    "d2 = a2[':WAT&:HXA<@15|:Na+&:HXA<@15|(!:WAT&!:Na+&!:Cl-)']\n",
    "print(d2)"
   ]
  },
  {
   "cell_type": "code",
   "execution_count": 68,
   "metadata": {},
   "outputs": [],
   "source": [
    "d.box = None"
   ]
  },
  {
   "cell_type": "code",
   "execution_count": 115,
   "metadata": {},
   "outputs": [],
   "source": [
    "d2.write_parm('hola2.prmtop')\n",
    "d2.save('hola2.inpcrd')"
   ]
  },
  {
   "cell_type": "code",
   "execution_count": 72,
   "metadata": {},
   "outputs": [],
   "source": [
    "pdb = mda.Universe('frames_8784_3.5_8784_4.0_8784_4.5/frame_4.pdb')"
   ]
  },
  {
   "cell_type": "code",
   "execution_count": 99,
   "metadata": {},
   "outputs": [
    {
     "name": "stdout",
     "output_type": "stream",
     "text": [
      "<ResidueGroup [<Residue HXA, 555>]>\n"
     ]
    }
   ],
   "source": [
    "#pdb_sel = \n",
    "print(pdb.select_atoms('resid 555').residues)\n",
    "#print(pdb_sel.residues)"
   ]
  },
  {
   "cell_type": "code",
   "execution_count": 108,
   "metadata": {},
   "outputs": [],
   "source": [
    "a = 'patata'\n",
    "b = 2"
   ]
  },
  {
   "cell_type": "code",
   "execution_count": 109,
   "metadata": {},
   "outputs": [
    {
     "name": "stdout",
     "output_type": "stream",
     "text": [
      "<class 'str'>\n"
     ]
    }
   ],
   "source": [
    "print(type(a))\n"
   ]
  },
  {
   "cell_type": "code",
   "execution_count": null,
   "metadata": {},
   "outputs": [],
   "source": [
    "pdb.select_atoms('resid HXA or resname HXA')"
   ]
  },
  {
   "cell_type": "code",
   "execution_count": null,
   "metadata": {},
   "outputs": [],
   "source": []
  }
 ],
 "metadata": {
  "kernelspec": {
   "display_name": "Python 3",
   "language": "python",
   "name": "python3"
  },
  "language_info": {
   "codemirror_mode": {
    "name": "ipython",
    "version": 3
   },
   "file_extension": ".py",
   "mimetype": "text/x-python",
   "name": "python",
   "nbconvert_exporter": "python",
   "pygments_lexer": "ipython3",
   "version": "3.6.7"
  }
 },
 "nbformat": 4,
 "nbformat_minor": 2
}
