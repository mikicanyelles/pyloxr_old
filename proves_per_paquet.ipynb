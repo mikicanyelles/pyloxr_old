{
 "cells": [
  {
   "cell_type": "code",
   "execution_count": 33,
   "metadata": {},
   "outputs": [
    {
     "name": "stdout",
     "output_type": "stream",
     "text": [
      "2.7.4\n"
     ]
    }
   ],
   "source": [
    "import parmed as pmd\n",
    "print(pmd.__version__)\n",
    "#import MDAnalysis as mda\n",
    "import os\n",
    "import numpy as np\n",
    "#from parmed import load_file as lf\n"
   ]
  },
  {
   "cell_type": "code",
   "execution_count": 3,
   "metadata": {},
   "outputs": [],
   "source": [
    "a = pmd.load_file('3rde.prmtop', xyz='frames_8784_3.0/frame_163.pdb')"
   ]
  },
  {
   "cell_type": "code",
   "execution_count": 43,
   "metadata": {},
   "outputs": [
    {
     "name": "stdout",
     "output_type": "stream",
     "text": [
      "<AmberParm 9783 atoms; 907 residues; 9826 bonds; PBC (orthogonal); parametrized>\n"
     ]
    }
   ],
   "source": [
    "c = a[':WAT&:HXA<@15|:Na+&:HXA<@15|:1-555']\n",
    "print(c)"
   ]
  },
  {
   "cell_type": "code",
   "execution_count": 113,
   "metadata": {},
   "outputs": [],
   "source": [
    "a2 = lf('3rde.prmtop', xyz='frames_8784_3.5_8784_4.0_8784_4.5/frame_4.pdb')"
   ]
  },
  {
   "cell_type": "code",
   "execution_count": 114,
   "metadata": {},
   "outputs": [
    {
     "name": "stdout",
     "output_type": "stream",
     "text": [
      "<AmberParm 9783 atoms; 907 residues; 9826 bonds; PBC (orthogonal); parametrized>\n"
     ]
    }
   ],
   "source": [
    "d2 = a2[':WAT&:HXA<@15|:Na+&:HXA<@15|(!:WAT&!:Na+&!:Cl-)']\n",
    "print(d2)"
   ]
  },
  {
   "cell_type": "code",
   "execution_count": 68,
   "metadata": {},
   "outputs": [],
   "source": [
    "d.box = None"
   ]
  },
  {
   "cell_type": "code",
   "execution_count": 115,
   "metadata": {},
   "outputs": [],
   "source": [
    "d2.write_parm('hola2.prmtop')\n",
    "d2.save('hola2.inpcrd')"
   ]
  },
  {
   "cell_type": "code",
   "execution_count": 72,
   "metadata": {},
   "outputs": [],
   "source": [
    "pdb = mda.Universe('frames_8784_3.0/frame_4.pdb')"
   ]
  },
  {
   "cell_type": "code",
   "execution_count": 99,
   "metadata": {},
   "outputs": [
    {
     "name": "stdout",
     "output_type": "stream",
     "text": [
      "<ResidueGroup [<Residue HXA, 555>]>\n"
     ]
    }
   ],
   "source": [
    "#pdb_sel = \n",
    "print(pdb.select_atoms('resid 555').residues)\n",
    "#print(pdb_sel.residues)"
   ]
  },
  {
   "cell_type": "code",
   "execution_count": null,
   "metadata": {},
   "outputs": [],
   "source": [
    "pdb.select_atoms('resid HXA or resname HXA')"
   ]
  },
  {
   "cell_type": "code",
   "execution_count": 5,
   "metadata": {},
   "outputs": [
    {
     "ename": "ValueError",
     "evalue": "cannot reshape array of size 26523 into shape (63455,3)",
     "output_type": "error",
     "traceback": [
      "\u001b[0;31m---------------------------------------------------------------------------\u001b[0m",
      "\u001b[0;31mValueError\u001b[0m                                Traceback (most recent call last)",
      "\u001b[0;32m<ipython-input-5-8a7d3ac8828a>\u001b[0m in \u001b[0;36m<module>\u001b[0;34m()\u001b[0m\n\u001b[0;32m----> 1\u001b[0;31m \u001b[0ma\u001b[0m \u001b[0;34m=\u001b[0m \u001b[0mpmd\u001b[0m\u001b[0;34m.\u001b[0m\u001b[0mload_file\u001b[0m\u001b[0;34m(\u001b[0m\u001b[0;34m'3rde.prmtop'\u001b[0m\u001b[0;34m,\u001b[0m \u001b[0mxyz\u001b[0m\u001b[0;34m=\u001b[0m\u001b[0;34m'qmmm_models/qmmm_model_4.pdb'\u001b[0m\u001b[0;34m)\u001b[0m\u001b[0;34m\u001b[0m\u001b[0m\n\u001b[0m\u001b[1;32m      2\u001b[0m \u001b[0ma\u001b[0m \u001b[0;34m=\u001b[0m \u001b[0ma\u001b[0m\u001b[0;34m[\u001b[0m\u001b[0;34m':WAT&:HXA<@15|:Na+&:HXA<@15|:1-555'\u001b[0m\u001b[0;34m]\u001b[0m\u001b[0;34m\u001b[0m\u001b[0m\n\u001b[1;32m      3\u001b[0m \u001b[0ma\u001b[0m\u001b[0;34m.\u001b[0m\u001b[0mbox\u001b[0m \u001b[0;34m=\u001b[0m \u001b[0;32mNone\u001b[0m\u001b[0;34m\u001b[0m\u001b[0m\n\u001b[1;32m      4\u001b[0m \u001b[0ma\u001b[0m\u001b[0;34m.\u001b[0m\u001b[0mstrip\u001b[0m\u001b[0;34m(\u001b[0m\u001b[0mselection\u001b[0m\u001b[0;34m=\u001b[0m\u001b[0;34m':WAT&!:HXA<@15'\u001b[0m\u001b[0;34m)\u001b[0m\u001b[0;34m\u001b[0m\u001b[0m\n\u001b[1;32m      5\u001b[0m \u001b[0ma\u001b[0m\u001b[0;34m.\u001b[0m\u001b[0mstrip\u001b[0m\u001b[0;34m(\u001b[0m\u001b[0mselection\u001b[0m\u001b[0;34m=\u001b[0m\u001b[0;34m':Na+&!:HXA<@15'\u001b[0m\u001b[0;34m)\u001b[0m\u001b[0;34m\u001b[0m\u001b[0m\n",
      "\u001b[0;32m/opt/AMBER/amber16/lib/python2.7/site-packages/parmed/formats/registry.py\u001b[0m in \u001b[0;36mload_file\u001b[0;34m(filename, *args, **kwargs)\u001b[0m\n\u001b[1;32m    195\u001b[0m         \u001b[0m_prune_argument\u001b[0m\u001b[0;34m(\u001b[0m\u001b[0mcls\u001b[0m\u001b[0;34m.\u001b[0m\u001b[0mparse\u001b[0m\u001b[0;34m,\u001b[0m \u001b[0mkwargs\u001b[0m\u001b[0;34m,\u001b[0m \u001b[0;34m'hasbox'\u001b[0m\u001b[0;34m)\u001b[0m\u001b[0;34m\u001b[0m\u001b[0m\n\u001b[1;32m    196\u001b[0m         \u001b[0m_prune_argument\u001b[0m\u001b[0;34m(\u001b[0m\u001b[0mcls\u001b[0m\u001b[0;34m.\u001b[0m\u001b[0mparse\u001b[0m\u001b[0;34m,\u001b[0m \u001b[0mkwargs\u001b[0m\u001b[0;34m,\u001b[0m \u001b[0;34m'skip_bonds'\u001b[0m\u001b[0;34m)\u001b[0m\u001b[0;34m\u001b[0m\u001b[0m\n\u001b[0;32m--> 197\u001b[0;31m         \u001b[0;32mreturn\u001b[0m \u001b[0mcls\u001b[0m\u001b[0;34m.\u001b[0m\u001b[0mparse\u001b[0m\u001b[0;34m(\u001b[0m\u001b[0mfilename\u001b[0m\u001b[0;34m,\u001b[0m \u001b[0;34m*\u001b[0m\u001b[0margs\u001b[0m\u001b[0;34m,\u001b[0m \u001b[0;34m**\u001b[0m\u001b[0mkwargs\u001b[0m\u001b[0;34m)\u001b[0m\u001b[0;34m\u001b[0m\u001b[0m\n\u001b[0m\u001b[1;32m    198\u001b[0m     \u001b[0;32melif\u001b[0m \u001b[0mhasattr\u001b[0m\u001b[0;34m(\u001b[0m\u001b[0mcls\u001b[0m\u001b[0;34m,\u001b[0m \u001b[0;34m'open_old'\u001b[0m\u001b[0;34m)\u001b[0m\u001b[0;34m:\u001b[0m\u001b[0;34m\u001b[0m\u001b[0m\n\u001b[1;32m    199\u001b[0m         \u001b[0m_prune_argument\u001b[0m\u001b[0;34m(\u001b[0m\u001b[0mcls\u001b[0m\u001b[0;34m.\u001b[0m\u001b[0mopen_old\u001b[0m\u001b[0;34m,\u001b[0m \u001b[0mkwargs\u001b[0m\u001b[0;34m,\u001b[0m \u001b[0;34m'structure'\u001b[0m\u001b[0;34m)\u001b[0m\u001b[0;34m\u001b[0m\u001b[0m\n",
      "\u001b[0;32m/opt/AMBER/amber16/lib/python2.7/site-packages/parmed/amber/amberformat.py\u001b[0m in \u001b[0;36mparse\u001b[0;34m(filename, *args, **kwargs)\u001b[0m\n\u001b[1;32m    357\u001b[0m         \u001b[0;32mfrom\u001b[0m \u001b[0mparmed\u001b[0m\u001b[0;34m.\u001b[0m\u001b[0mamber\u001b[0m \u001b[0;32mimport\u001b[0m \u001b[0mLoadParm\u001b[0m\u001b[0;34m,\u001b[0m \u001b[0mBeemanRestart\u001b[0m\u001b[0;34m\u001b[0m\u001b[0m\n\u001b[1;32m    358\u001b[0m         \u001b[0;32mtry\u001b[0m\u001b[0;34m:\u001b[0m\u001b[0;34m\u001b[0m\u001b[0m\n\u001b[0;32m--> 359\u001b[0;31m             \u001b[0;32mreturn\u001b[0m \u001b[0mLoadParm\u001b[0m\u001b[0;34m(\u001b[0m\u001b[0mfilename\u001b[0m\u001b[0;34m,\u001b[0m \u001b[0;34m*\u001b[0m\u001b[0margs\u001b[0m\u001b[0;34m,\u001b[0m \u001b[0;34m**\u001b[0m\u001b[0mkwargs\u001b[0m\u001b[0;34m)\u001b[0m\u001b[0;34m\u001b[0m\u001b[0m\n\u001b[0m\u001b[1;32m    360\u001b[0m         \u001b[0;32mexcept\u001b[0m \u001b[0;34m(\u001b[0m\u001b[0mIndexError\u001b[0m\u001b[0;34m,\u001b[0m \u001b[0mKeyError\u001b[0m\u001b[0;34m)\u001b[0m\u001b[0;34m:\u001b[0m\u001b[0;34m\u001b[0m\u001b[0m\n\u001b[1;32m    361\u001b[0m             \u001b[0mparm\u001b[0m \u001b[0;34m=\u001b[0m \u001b[0mAmberFormat\u001b[0m\u001b[0;34m(\u001b[0m\u001b[0mfilename\u001b[0m\u001b[0;34m,\u001b[0m \u001b[0;34m*\u001b[0m\u001b[0margs\u001b[0m\u001b[0;34m,\u001b[0m \u001b[0;34m**\u001b[0m\u001b[0mkwargs\u001b[0m\u001b[0;34m)\u001b[0m\u001b[0;34m\u001b[0m\u001b[0m\n",
      "\u001b[0;32m/opt/AMBER/amber16/lib/python2.7/site-packages/parmed/amber/readparm.py\u001b[0m in \u001b[0;36mLoadParm\u001b[0;34m(parmname, xyz, box)\u001b[0m\n\u001b[1;32m     74\u001b[0m         \u001b[0;32mif\u001b[0m \u001b[0;32mnot\u001b[0m \u001b[0mhasattr\u001b[0m\u001b[0;34m(\u001b[0m\u001b[0mf\u001b[0m\u001b[0;34m,\u001b[0m \u001b[0;34m'coordinates'\u001b[0m\u001b[0;34m)\u001b[0m \u001b[0;32mor\u001b[0m \u001b[0mf\u001b[0m\u001b[0;34m.\u001b[0m\u001b[0mcoordinates\u001b[0m \u001b[0;32mis\u001b[0m \u001b[0;32mNone\u001b[0m\u001b[0;34m:\u001b[0m\u001b[0;34m\u001b[0m\u001b[0m\n\u001b[1;32m     75\u001b[0m             \u001b[0;32mraise\u001b[0m \u001b[0mTypeError\u001b[0m\u001b[0;34m(\u001b[0m\u001b[0;34m'%s does not have coordinates'\u001b[0m \u001b[0;34m%\u001b[0m \u001b[0mxyz\u001b[0m\u001b[0;34m)\u001b[0m\u001b[0;34m\u001b[0m\u001b[0m\n\u001b[0;32m---> 76\u001b[0;31m         \u001b[0mparm\u001b[0m\u001b[0;34m.\u001b[0m\u001b[0mcoordinates\u001b[0m \u001b[0;34m=\u001b[0m \u001b[0mf\u001b[0m\u001b[0;34m.\u001b[0m\u001b[0mcoordinates\u001b[0m\u001b[0;34m\u001b[0m\u001b[0m\n\u001b[0m\u001b[1;32m     77\u001b[0m         \u001b[0;32mif\u001b[0m \u001b[0mhasattr\u001b[0m\u001b[0;34m(\u001b[0m\u001b[0mf\u001b[0m\u001b[0;34m,\u001b[0m \u001b[0;34m'box'\u001b[0m\u001b[0;34m)\u001b[0m \u001b[0;32mand\u001b[0m \u001b[0mf\u001b[0m\u001b[0;34m.\u001b[0m\u001b[0mbox\u001b[0m \u001b[0;32mis\u001b[0m \u001b[0;32mnot\u001b[0m \u001b[0;32mNone\u001b[0m \u001b[0;32mand\u001b[0m \u001b[0mbox\u001b[0m \u001b[0;32mis\u001b[0m \u001b[0;32mNone\u001b[0m\u001b[0;34m:\u001b[0m\u001b[0;34m\u001b[0m\u001b[0m\n\u001b[1;32m     78\u001b[0m             \u001b[0mparm\u001b[0m\u001b[0;34m.\u001b[0m\u001b[0mbox\u001b[0m \u001b[0;34m=\u001b[0m \u001b[0mf\u001b[0m\u001b[0;34m.\u001b[0m\u001b[0mbox\u001b[0m\u001b[0;34m\u001b[0m\u001b[0m\n",
      "\u001b[0;32m/opt/AMBER/amber16/lib/python2.7/site-packages/parmed/structure.py\u001b[0m in \u001b[0;36mcoordinates\u001b[0;34m(self, value)\u001b[0m\n\u001b[1;32m   1709\u001b[0m             \u001b[0mvalue\u001b[0m \u001b[0;34m=\u001b[0m \u001b[0mlist\u001b[0m\u001b[0;34m(\u001b[0m\u001b[0mvalue\u001b[0m\u001b[0;34m)\u001b[0m\u001b[0;34m\u001b[0m\u001b[0m\n\u001b[1;32m   1710\u001b[0m             \u001b[0mcoords\u001b[0m \u001b[0;34m=\u001b[0m \u001b[0mnp\u001b[0m\u001b[0;34m.\u001b[0m\u001b[0marray\u001b[0m\u001b[0;34m(\u001b[0m\u001b[0mvalue\u001b[0m\u001b[0;34m,\u001b[0m \u001b[0mdtype\u001b[0m\u001b[0;34m=\u001b[0m\u001b[0mnp\u001b[0m\u001b[0;34m.\u001b[0m\u001b[0mfloat64\u001b[0m\u001b[0;34m,\u001b[0m \u001b[0mcopy\u001b[0m\u001b[0;34m=\u001b[0m\u001b[0;32mFalse\u001b[0m\u001b[0;34m,\u001b[0m \u001b[0msubok\u001b[0m\u001b[0;34m=\u001b[0m\u001b[0;32mTrue\u001b[0m\u001b[0;34m)\u001b[0m\u001b[0;34m\u001b[0m\u001b[0m\n\u001b[0;32m-> 1711\u001b[0;31m             \u001b[0mcoords\u001b[0m \u001b[0;34m=\u001b[0m \u001b[0mcoords\u001b[0m\u001b[0;34m.\u001b[0m\u001b[0mreshape\u001b[0m\u001b[0;34m(\u001b[0m\u001b[0;34m(\u001b[0m\u001b[0;34m-\u001b[0m\u001b[0;36m1\u001b[0m\u001b[0;34m,\u001b[0m \u001b[0mlen\u001b[0m\u001b[0;34m(\u001b[0m\u001b[0mself\u001b[0m\u001b[0;34m.\u001b[0m\u001b[0matoms\u001b[0m\u001b[0;34m)\u001b[0m\u001b[0;34m,\u001b[0m \u001b[0;36m3\u001b[0m\u001b[0;34m)\u001b[0m\u001b[0;34m)\u001b[0m\u001b[0;34m\u001b[0m\u001b[0m\n\u001b[0m\u001b[1;32m   1712\u001b[0m             \u001b[0;32mif\u001b[0m \u001b[0mlen\u001b[0m\u001b[0;34m(\u001b[0m\u001b[0mcoords\u001b[0m\u001b[0;34m)\u001b[0m \u001b[0;34m>\u001b[0m \u001b[0;36m0\u001b[0m\u001b[0;34m:\u001b[0m\u001b[0;34m\u001b[0m\u001b[0m\n\u001b[1;32m   1713\u001b[0m                 \u001b[0;32mfor\u001b[0m \u001b[0ma\u001b[0m\u001b[0;34m,\u001b[0m \u001b[0mxyz\u001b[0m \u001b[0;32min\u001b[0m \u001b[0mzip\u001b[0m\u001b[0;34m(\u001b[0m\u001b[0mself\u001b[0m\u001b[0;34m.\u001b[0m\u001b[0matoms\u001b[0m\u001b[0;34m,\u001b[0m \u001b[0mcoords\u001b[0m\u001b[0;34m[\u001b[0m\u001b[0;36m0\u001b[0m\u001b[0;34m]\u001b[0m\u001b[0;34m)\u001b[0m\u001b[0;34m:\u001b[0m\u001b[0;34m\u001b[0m\u001b[0m\n",
      "\u001b[0;31mValueError\u001b[0m: cannot reshape array of size 26523 into shape (63455,3)"
     ]
    }
   ],
   "source": [
    "a = pmd.load_file('3rde.prmtop', xyz='qmmm_models/qmmm_model_4.pdb')\n",
    "a = a[':WAT&:HXA<@15|:Na+&:HXA<@15|:1-555']\n",
    "a.box = None\n",
    "a.strip(selection=':WAT&!:HXA<@15')\n",
    "a.strip(selection=':Na+&!:HXA<@15')\n",
    "a.strip(selection=':Cl-&!:HXA<@15')"
   ]
  },
  {
   "cell_type": "code",
   "execution_count": null,
   "metadata": {},
   "outputs": [],
   "source": [
    "a.write_parm('hola.prmtop')"
   ]
  },
  {
   "cell_type": "code",
   "execution_count": null,
   "metadata": {},
   "outputs": [],
   "source": [
    "a.save('hola.inpcrd')"
   ]
  },
  {
   "cell_type": "code",
   "execution_count": 9,
   "metadata": {},
   "outputs": [
    {
     "data": {
      "text/plain": [
       "'/home/mcanyelles/git/pyloxr/frames_8784_3.0/frame_163.pdb'"
      ]
     },
     "execution_count": 9,
     "metadata": {},
     "output_type": "execute_result"
    }
   ],
   "source": [
    "os.path.abspath('frames_8784_3.0/frame_163.pdb')"
   ]
  },
  {
   "cell_type": "code",
   "execution_count": 15,
   "metadata": {},
   "outputs": [
    {
     "name": "stdout",
     "output_type": "stream",
     "text": [
      "heey\n"
     ]
    }
   ],
   "source": [
    "if len(str(os.path.abspath('frames_8784_3.0/frame_163.pdb')).split(\"/\")) != 1:\n",
    "    print('heey')\n",
    "elif len(str(os.path.abspath('frames_8784_3.0/frame_163.pdb')).split(\"\\\\\")) != 1:\n",
    "    primt('hooo')"
   ]
  },
  {
   "cell_type": "code",
   "execution_count": null,
   "metadata": {},
   "outputs": [],
   "source": [
    "\n",
    "\n"
   ]
  },
  {
   "cell_type": "code",
   "execution_count": null,
   "metadata": {},
   "outputs": [],
   "source": []
  },
  {
   "cell_type": "code",
   "execution_count": null,
   "metadata": {},
   "outputs": [],
   "source": []
  },
  {
   "cell_type": "code",
   "execution_count": 14,
   "metadata": {},
   "outputs": [
    {
     "name": "stdout",
     "output_type": "stream",
     "text": [
      "1 0.7608667153933504\n",
      "2 0.6440678542315054\n",
      "3 0.574561939943283\n",
      "4 0.5246366685333441\n",
      "5 0.4877195268827608\n",
      "6 0.4572748450707666\n",
      "7 0.4330902627985282\n",
      "8 0.4130202057189272\n",
      "9 0.3957952442227343\n",
      "10 0.3804370432487341\n",
      "11 0.3666425854575724\n",
      "12 0.3536926969683847\n",
      "13 0.34220689086150746\n",
      "14 0.3330426446251498\n",
      "15 0.32473993950753943\n",
      "16 0.3169795237689788\n",
      "17 0.3095917343843721\n",
      "18 0.30353747535933556\n",
      "19 0.29727607351817936\n",
      "20 0.2928183004132636\n"
     ]
    },
    {
     "data": {
      "image/png": "[encoded data removed]",
      "text/plain": [
       "<Figure size 432x288 with 1 Axes>"
      ]
     },
     "metadata": {},
     "output_type": "display_data"
    }
   ],
   "source": [
    "import MDAnalysis\n",
    "from MDAnalysis.analysis.waterdynamics import SurvivalProbability as SP\n",
    "import matplotlib.pyplot as plt\n",
    "\n",
    "universe = MDAnalysis.Universe('3rde.prmtop', '5_prod_07.nc')\n",
    "selection = \"resname WAT and sphzone 12.3 (resid 555) \"\n",
    "sp = SP(universe, selection)#, verbose=True)\n",
    "sp.run(start=0, stop=100, tau_max=20)\n",
    "tau_timeseries = sp.tau_timeseries\n",
    "sp_timeseries = sp.sp_timeseries\n",
    "\n",
    "# print in console\n",
    "for tau, sp in zip(tau_timeseries, sp_timeseries):\n",
    "      print(\"{time} {sp}\".format(time=tau, sp=sp))\n",
    "\n",
    "# plot\n",
    "plt.xlabel('Time')\n",
    "plt.ylabel('SP')\n",
    "plt.title('Survival Probability')\n",
    "plt.plot(tau_timeseries, sp_timeseries)\n",
    "plt.show()"
   ]
  },
  {
   "cell_type": "code",
   "execution_count": null,
   "metadata": {},
   "outputs": [],
   "source": []
  },
  {
   "cell_type": "code",
   "execution_count": 23,
   "metadata": {},
   "outputs": [
    {
     "name": "stderr",
     "output_type": "stream",
     "text": [
      "/home/mcanyelles/miniconda3/envs/py_env/lib/python3.6/site-packages/numpy/lib/function_base.py:356: RuntimeWarning: Mean of empty slice.\n",
      "  avg = a.mean(axis)\n",
      "/home/mcanyelles/miniconda3/envs/py_env/lib/python3.6/site-packages/numpy/core/_methods.py:78: RuntimeWarning: invalid value encountered in true_divide\n",
      "  ret, rcount, out=ret, casting='unsafe', subok=False)\n",
      "/home/mcanyelles/miniconda3/envs/py_env/lib/python3.6/site-packages/MDAnalysis/lib/distances.py:533: RuntimeWarning: invalid value encountered in less_equal\n",
      "  mask = np.where((_distances <= max_cutoff))\n",
      "/home/mcanyelles/miniconda3/envs/py_env/lib/python3.6/site-packages/MDAnalysis/analysis/hbonds/hbond_analysis.py:649: SelectionWarning: No donors found in selection 1. You might have to specify a custom 'donors' keyword. Selection will update so continuing with fingers crossed.\n",
      "  warnings.warn(errmsg, category=SelectionWarning)\n",
      "/home/mcanyelles/miniconda3/envs/py_env/lib/python3.6/site-packages/MDAnalysis/analysis/hbonds/hbond_analysis.py:649: SelectionWarning: No acceptors found in selection 1. You might have to specify a custom 'acceptors' keyword. Selection will update so continuing with fingers crossed.\n",
      "  warnings.warn(errmsg, category=SelectionWarning)\n",
      "/home/mcanyelles/miniconda3/envs/py_env/lib/python3.6/site-packages/MDAnalysis/analysis/hbonds/hbond_analysis.py:649: SelectionWarning: No acceptors found in selection 2. You might have to specify a custom 'acceptors' keyword. Selection will update so continuing with fingers crossed.\n",
      "  warnings.warn(errmsg, category=SelectionWarning)\n",
      "/home/mcanyelles/miniconda3/envs/py_env/lib/python3.6/site-packages/MDAnalysis/analysis/hbonds/hbond_analysis.py:649: SelectionWarning: No donors found in selection 2. You might have to specify a custom 'donors' keyword. Selection will update so continuing with fingers crossed.\n",
      "  warnings.warn(errmsg, category=SelectionWarning)\n"
     ]
    },
    {
     "name": "stdout",
     "output_type": "stream",
     "text": [
      "0 1.0 0 0.0\n",
      "1 0.0 1 0.0\n",
      "2 0.0 2 0.0\n",
      "3 0.0 3 0.0\n",
      "4 0.0 4 0.0\n",
      "5 0.0 5 0.0\n",
      "6 0.0 6 0.0\n",
      "7 0.0 7 0.0\n",
      "8 0.0 8 0.0\n",
      "9 0.0 9 0.0\n",
      "10 0.0 10 0.0\n",
      "11 0.0 11 0.0\n",
      "12 0.0 12 0.0\n",
      "13 0.0 13 0.0\n",
      "14 0.0 14 0.0\n",
      "15 0.0 15 0.0\n",
      "16 0.0 16 0.0\n",
      "17 0.0 17 0.0\n",
      "18 0.0 18 0.0\n",
      "19 0.0 19 0.0\n",
      "20 0.0 20 0.0\n",
      "21 0.0 21 0.0\n",
      "22 0.0 22 0.0\n",
      "23 0.0 23 0.0\n",
      "24 0.0 24 0.0\n",
      "25 0.0 25 0.0\n",
      "26 0.0 26 0.0\n",
      "27 0.0 27 0.0\n",
      "28 0.0 28 0.0\n",
      "29 0.0 29 0.0\n",
      "30 0.0 30 0.0\n",
      "31 0.0 31 0.0\n",
      "32 0.0 32 0.0\n",
      "33 0.0 33 0.0\n",
      "34 0.0 34 0.0\n",
      "35 0.0 35 0.0\n",
      "36 0.0 36 0.0\n",
      "37 0.0 37 0.0\n",
      "38 0.0 38 0.0\n",
      "39 0.0 39 0.0\n",
      "40 0.0 40 0.0\n",
      "41 0.0 41 0.0\n",
      "42 0.0 42 0.0\n",
      "43 0.0 43 0.0\n",
      "44 0.0 44 0.0\n",
      "45 0.0 45 0.0\n",
      "46 0.0 46 0.0\n",
      "47 0.0 47 0.0\n",
      "48 0.0 48 0.0\n",
      "49 0.0 49 0.0\n",
      "50 0.0 50 0.0\n",
      "51 0.0 51 0.0\n",
      "52 0.0 52 0.0\n",
      "53 0.0 53 0.0\n",
      "54 0.0 54 0.0\n",
      "55 0.0 55 0.0\n",
      "56 0.0 56 0.0\n",
      "57 0.0 57 0.0\n",
      "58 0.0 58 0.0\n",
      "59 0.0 59 0.0\n",
      "60 0.0 60 0.0\n",
      "61 0.0 61 0.0\n",
      "62 0.0 62 0.0\n",
      "63 0.0 63 0.0\n",
      "64 0.0 64 0.0\n",
      "65 0.0 65 0.0\n",
      "66 0.0 66 0.0\n",
      "67 0.0 67 0.0\n",
      "68 0.0 68 0.0\n",
      "69 0.0 69 0.0\n",
      "70 0.0 70 0.0\n",
      "71 0.0 71 0.0\n",
      "72 0.0 72 0.0\n",
      "73 0.0 73 0.0\n",
      "74 0.0 74 0.0\n",
      "75 0.0 75 0.0\n",
      "76 0.0 76 0.0\n",
      "77 0.0 77 0.0\n",
      "78 0.0 78 0.0\n",
      "79 0.0 79 0.0\n",
      "80 0.0 80 0.0\n",
      "81 0.0 81 0.0\n",
      "82 0.0 82 0.0\n",
      "83 0.0 83 0.0\n",
      "84 0.0 84 0.0\n",
      "85 0.0 85 0.0\n",
      "86 0.0 86 0.0\n",
      "87 0.0 87 0.0\n",
      "88 0.0 88 0.0\n",
      "89 0.0 89 0.0\n",
      "90 0.0 90 0.0\n",
      "91 0.0 91 0.0\n",
      "92 0.0 92 0.0\n",
      "93 0.0 93 0.0\n",
      "94 0.0 94 0.0\n",
      "95 0.0 95 0.0\n",
      "96 0.0 96 0.0\n",
      "97 0.0 97 0.0\n",
      "98 0.0 98 0.0\n",
      "99 0.0 99 0.0\n"
     ]
    },
    {
     "data": {
      "image/png": "[encoded data removed]",
      "text/plain": [
       "<Figure size 1296x432 with 2 Axes>"
      ]
     },
     "metadata": {},
     "output_type": "display_data"
    }
   ],
   "source": [
    "#import MDAnalysis\n",
    "from MDAnalysis.analysis.waterdynamics import HydrogenBondLifetimes as HBL\n",
    "\n",
    "u = MDAnalysis.Universe('3rde.prmtop', '5_prod_07.nc')\n",
    "selection1 = \"resname WAT and sphzone 6.0 protein and resid 555\"\n",
    "selection2 = \"resid 555\"\n",
    "HBL_analysis = HBL(universe, selection1, selection2, 0, 100, 100)#, donor=('O1'), acceptor=('H1', 'H2'))\n",
    "HBL_analysis.run()\n",
    "time = 0\n",
    "#now we print the data ready to plot. The first two columns are the HBLc vs t\n",
    "#plot and the second two columns are the HBLi vs t graph\n",
    "for HBLc, HBLi in HBL_analysis.timeseries:\n",
    "    print(\"{time} {HBLc} {time} {HBLi}\".format(time=time, HBLc=HBLc, HBLi=HBLi))\n",
    "    time += 1\n",
    "\n",
    "#we can also plot our data\n",
    "plt.figure(1,figsize=(18, 6))\n",
    "\n",
    "#HBL continuos\n",
    "plt.subplot(121)\n",
    "plt.xlabel('time')\n",
    "plt.ylabel('HBLc')\n",
    "plt.title('HBL Continuos')\n",
    "plt.plot(range(0,time),[column[0] for column in HBL_analysis.timeseries])\n",
    "\n",
    "#HBL intermitent\n",
    "plt.subplot(122)\n",
    "plt.xlabel('time')\n",
    "plt.ylabel('HBLi')\n",
    "plt.title('HBL Intermitent')\n",
    "plt.plot(range(0,time),[column[1] for column in HBL_analysis.timeseries])\n",
    "\n",
    "plt.show()"
   ]
  },
  {
   "cell_type": "code",
   "execution_count": null,
   "metadata": {},
   "outputs": [],
   "source": []
  },
  {
   "cell_type": "code",
   "execution_count": null,
   "metadata": {},
   "outputs": [],
   "source": []
  },
  {
   "cell_type": "code",
   "execution_count": null,
   "metadata": {},
   "outputs": [],
   "source": []
  },
  {
   "cell_type": "code",
   "execution_count": 24,
   "metadata": {},
   "outputs": [
    {
     "ename": "TypeError",
     "evalue": "'zip' object is not subscriptable",
     "output_type": "error",
     "traceback": [
      "\u001b[0;31m---------------------------------------------------------------------------\u001b[0m",
      "\u001b[0;31mTypeError\u001b[0m                                 Traceback (most recent call last)",
      "\u001b[0;32m<ipython-input-24-26a4a0d2513f>\u001b[0m in \u001b[0;36m<module>\u001b[0;34m()\u001b[0m\n\u001b[1;32m     12\u001b[0m \u001b[0;34m\u001b[0m\u001b[0m\n\u001b[1;32m     13\u001b[0m \u001b[0moutputfile\u001b[0m \u001b[0;34m=\u001b[0m \u001b[0mopen\u001b[0m\u001b[0;34m(\u001b[0m\u001b[0;34m\"eigenvalues.dat\"\u001b[0m\u001b[0;34m,\u001b[0m \u001b[0;34m\"w\"\u001b[0m\u001b[0;34m)\u001b[0m\u001b[0;34m\u001b[0m\u001b[0m\n\u001b[0;32m---> 14\u001b[0;31m \u001b[0;32mfor\u001b[0m \u001b[0mitem\u001b[0m \u001b[0;32min\u001b[0m \u001b[0moutput\u001b[0m\u001b[0;34m[\u001b[0m\u001b[0;36m1\u001b[0m\u001b[0;34m]\u001b[0m\u001b[0;34m:\u001b[0m\u001b[0;34m\u001b[0m\u001b[0m\n\u001b[0m\u001b[1;32m     15\u001b[0m     \u001b[0mprint\u001b[0m \u001b[0;34m>>\u001b[0m \u001b[0moutputfile\u001b[0m\u001b[0;34m,\u001b[0m \u001b[0mitem\u001b[0m\u001b[0;34m\u001b[0m\u001b[0m\n\u001b[1;32m     16\u001b[0m \u001b[0moutputfile\u001b[0m\u001b[0;34m.\u001b[0m\u001b[0mclose\u001b[0m\u001b[0;34m(\u001b[0m\u001b[0;34m)\u001b[0m\u001b[0;34m\u001b[0m\u001b[0m\n",
      "\u001b[0;31mTypeError\u001b[0m: 'zip' object is not subscriptable"
     ]
    }
   ],
   "source": [
    "import sys\n",
    "import os\n",
    "#import MDAnalysis\n",
    "import MDAnalysis.analysis.gnm\n",
    "#from MDAnalysis.tests.datafiles import PSF, DCD\n",
    "\n",
    "u = MDAnalysis.Universe('3rde.prmtop', '5_prod_07.nc')\n",
    "C = MDAnalysis.analysis.gnm.GNMAnalysis(u, ReportVector=\"output.txt\")\n",
    "\n",
    "C.run()\n",
    "output = zip(*C.results)\n",
    "\n",
    "outputfile = open(\"eigenvalues.dat\", \"w\")\n",
    "for item in output[1]:\n",
    "    print >> outputfile, item\n",
    "outputfile.close()"
   ]
  },
  {
   "cell_type": "code",
   "execution_count": null,
   "metadata": {},
   "outputs": [],
   "source": []
  },
  {
   "cell_type": "code",
   "execution_count": null,
   "metadata": {},
   "outputs": [],
   "source": []
  },
  {
   "cell_type": "code",
   "execution_count": null,
   "metadata": {},
   "outputs": [],
   "source": []
  },
  {
   "cell_type": "code",
   "execution_count": null,
   "metadata": {},
   "outputs": [],
   "source": []
  },
  {
   "cell_type": "code",
   "execution_count": 27,
   "metadata": {},
   "outputs": [],
   "source": [
    "import MDAnalysis.analysis.pca as pca"
   ]
  },
  {
   "cell_type": "code",
   "execution_count": 43,
   "metadata": {},
   "outputs": [
    {
     "data": {
      "text/plain": [
       "<MDAnalysis.analysis.pca.PCA at 0x7f6d356192b0>"
      ]
     },
     "execution_count": 43,
     "metadata": {},
     "output_type": "execute_result"
    }
   ],
   "source": [
    "pca_u = pca.PCA(u, select='resname HXA')\n",
    "pca_u.run()"
   ]
  },
  {
   "cell_type": "code",
   "execution_count": 44,
   "metadata": {},
   "outputs": [
    {
     "name": "stdout",
     "output_type": "stream",
     "text": [
      "<MDAnalysis.analysis.pca.PCA object at 0x7f6d356192b0>\n"
     ]
    }
   ],
   "source": [
    "print(pca_u)"
   ]
  },
  {
   "cell_type": "code",
   "execution_count": 45,
   "metadata": {},
   "outputs": [],
   "source": [
    "n_pcs = np.where(pca_u.cumulated_variance > 0.95)[0][0]\n",
    "atomgroup = u.select_atoms('resname HXA')\n",
    "pca_space = pca_u.transform(atomgroup, n_components=n_pcs)"
   ]
  },
  {
   "cell_type": "code",
   "execution_count": 46,
   "metadata": {},
   "outputs": [
    {
     "data": {
      "text/plain": [
       "array([[-3.42399974e+01, -1.10293142e+01,  4.53242542e+00, ...,\n",
       "        -7.00475071e-01, -2.18908863e-01,  1.43681898e+00],\n",
       "       [-3.57831287e+01, -8.76424975e+00,  6.59346723e+00, ...,\n",
       "         1.42723381e+00, -8.94840878e-01,  2.67950469e-03],\n",
       "       [-3.31528011e+01, -9.65563688e+00,  8.79721486e+00, ...,\n",
       "        -5.31915859e-01, -6.42858063e-01,  5.18027777e-01],\n",
       "       ...,\n",
       "       [ 9.52600378e+00,  8.16711156e-01,  1.01112788e+01, ...,\n",
       "         1.47036291e+00,  3.23891032e+00, -7.28234197e-03],\n",
       "       [ 1.41695229e+01, -3.48648757e+00,  4.79420798e+00, ...,\n",
       "         2.78065629e+00,  1.14435587e+00,  7.58018579e-01],\n",
       "       [ 9.34621955e+00, -4.95889717e+00,  8.62172044e+00, ...,\n",
       "         2.08778792e+00,  1.32610123e+00,  2.30125999e-01]])"
      ]
     },
     "execution_count": 46,
     "metadata": {},
     "output_type": "execute_result"
    }
   ],
   "source": [
    "pca_space"
   ]
  },
  {
   "cell_type": "code",
   "execution_count": 47,
   "metadata": {},
   "outputs": [
    {
     "data": {
      "text/plain": [
       "<AtomGroup with 55 atoms>"
      ]
     },
     "execution_count": 47,
     "metadata": {},
     "output_type": "execute_result"
    }
   ],
   "source": [
    "pca_meanatoms = pca_u.mean_atoms\n",
    "pca_meanatoms"
   ]
  },
  {
   "cell_type": "code",
   "execution_count": 49,
   "metadata": {},
   "outputs": [
    {
     "name": "stdout",
     "output_type": "stream",
     "text": [
      "<AtomGroup [<Atom 8787: O1 of type o of resname HXA, resid 555 and segid SYSTEM>, <Atom 8788: C1 of type c of resname HXA, resid 555 and segid SYSTEM>, <Atom 8789: O2 of type o of resname HXA, resid 555 and segid SYSTEM>, ..., <Atom 8839: H22 of type hc of resname HXA, resid 555 and segid SYSTEM>, <Atom 8840: H23 of type hc of resname HXA, resid 555 and segid SYSTEM>, <Atom 8841: H24 of type hc of resname HXA, resid 555 and segid SYSTEM>]>\n"
     ]
    }
   ],
   "source": [
    "print(pca_meanatoms)"
   ]
  },
  {
   "cell_type": "code",
   "execution_count": null,
   "metadata": {},
   "outputs": [],
   "source": []
  }
 ],
 "metadata": {
  "kernelspec": {
   "display_name": "Python 3",
   "language": "python",
   "name": "python3"
  },
  "language_info": {
   "codemirror_mode": {
    "name": "ipython",
    "version": 3
   },
   "file_extension": ".py",
   "mimetype": "text/x-python",
   "name": "python",
   "nbconvert_exporter": "python",
   "pygments_lexer": "ipython3",
   "version": "3.6.5"
  }
 },
 "nbformat": 4,
 "nbformat_minor": 2
}
